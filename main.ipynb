{
 "cells": [
  {
   "cell_type": "code",
   "execution_count": 1,
   "metadata": {},
   "outputs": [],
   "source": [
    "import pandas as pd\n",
    "import numpy as np\n",
    "import json\n",
    "import nltk\n",
    "import re\n",
    "import csv\n",
    "import matplotlib.pyplot as plt\n",
    "from tqdm import tqdm\n",
    "%matplotlib inline\n",
    "pd.set_option('display.max_colwidth', 300)"
   ]
  },
  {
   "cell_type": "code",
   "execution_count": 2,
   "metadata": {},
   "outputs": [],
   "source": [
    "from sklearn.feature_extraction.text import TfidfVectorizer\n",
    "\n",
    "from sklearn.model_selection import train_test_split\n",
    "\n",
    "from sklearn.preprocessing import MultiLabelBinarizer\n",
    "\n",
    "from sklearn.linear_model import LogisticRegression\n",
    "from sklearn.multiclass import OneVsRestClassifier\n",
    "\n",
    "from sklearn.metrics import f1_score, accuracy_score"
   ]
  },
  {
   "cell_type": "code",
   "execution_count": 30,
   "metadata": {},
   "outputs": [],
   "source": [
    "data = []\n",
    "\n",
    "with open(\"C:/Users/Andrew/CSP571/Project/data/booksummaries.txt\", 'r', encoding=\"utf-8\") as f:\n",
    "    reader = csv.reader(f, dialect='excel-tab')\n",
    "    for row in reader:\n",
    "        data.append(row)\n",
    "\n",
    "#traits to record\n",
    "bookID=[]\n",
    "bookTitle=[]\n",
    "bookSummary=[]\n",
    "bookGenres=[]"
   ]
  },
  {
   "cell_type": "code",
   "execution_count": null,
   "metadata": {},
   "outputs": [],
   "source": []
  },
  {
   "cell_type": "code",
   "execution_count": 33,
   "metadata": {},
   "outputs": [],
   "source": [
    "for i in range(len(data)):\n",
    "    try:\n",
    "        #Json Handler\n",
    "        bookGenres.append(list(json.loads(data[i][5]).values()))\n",
    "    \n",
    "        bookID.append(data[i][0])\n",
    "        bookTitle.append(data[i][2])\n",
    "        bookSummary.append(data[i][6])\n",
    "    except:\n",
    "        pass\n",
    "\n",
    "bookDF=pd.DataFrame({'ID':bookID,'Title':bookTitle,'Genres':bookGenres,'Summary':bookSummary})"
   ]
  },
  {
   "cell_type": "code",
   "execution_count": 34,
   "metadata": {},
   "outputs": [
    {
     "data": {
      "text/html": [
       "<div>\n",
       "<style scoped>\n",
       "    .dataframe tbody tr th:only-of-type {\n",
       "        vertical-align: middle;\n",
       "    }\n",
       "\n",
       "    .dataframe tbody tr th {\n",
       "        vertical-align: top;\n",
       "    }\n",
       "\n",
       "    .dataframe thead th {\n",
       "        text-align: right;\n",
       "    }\n",
       "</style>\n",
       "<table border=\"1\" class=\"dataframe\">\n",
       "  <thead>\n",
       "    <tr style=\"text-align: right;\">\n",
       "      <th></th>\n",
       "      <th>ID</th>\n",
       "      <th>Title</th>\n",
       "      <th>Genres</th>\n",
       "      <th>Summary</th>\n",
       "    </tr>\n",
       "  </thead>\n",
       "  <tbody>\n",
       "    <tr>\n",
       "      <th>0</th>\n",
       "      <td>620</td>\n",
       "      <td>Animal Farm</td>\n",
       "      <td>[Roman à clef, Satire, Children's literature, Speculative fiction, Fiction]</td>\n",
       "      <td>Old Major, the old boar on the Manor Farm, calls the animals on the farm for a meeting, where he compares the humans to parasites and teaches the animals a revolutionary song, 'Beasts of England'. When Major dies, two young pigs, Snowball and Napoleon, assume command and turn his dream into a p...</td>\n",
       "    </tr>\n",
       "    <tr>\n",
       "      <th>1</th>\n",
       "      <td>843</td>\n",
       "      <td>A Clockwork Orange</td>\n",
       "      <td>[Science Fiction, Novella, Speculative fiction, Utopian and dystopian fiction, Satire, Fiction]</td>\n",
       "      <td>Alex, a teenager living in near-future England, leads his gang on nightly orgies of opportunistic, random \"ultra-violence.\" Alex's friends (\"droogs\" in the novel's Anglo-Russian slang, Nadsat) are: Dim, a slow-witted bruiser who is the gang's muscle; Georgie, an ambitious second-in-command; and...</td>\n",
       "    </tr>\n",
       "    <tr>\n",
       "      <th>2</th>\n",
       "      <td>986</td>\n",
       "      <td>The Plague</td>\n",
       "      <td>[Existentialism, Fiction, Absurdist fiction, Novel]</td>\n",
       "      <td>The text of The Plague is divided into five parts. In the town of Oran, thousands of rats, initially unnoticed by the populace, begin to die in the streets. A hysteria develops soon afterward, causing the local newspapers to report the incident. Authorities responding to public pressure order t...</td>\n",
       "    </tr>\n",
       "    <tr>\n",
       "      <th>3</th>\n",
       "      <td>2080</td>\n",
       "      <td>A Fire Upon the Deep</td>\n",
       "      <td>[Hard science fiction, Science Fiction, Speculative fiction, Fantasy, Fiction]</td>\n",
       "      <td>The novel posits that space around the Milky Way is divided into concentric layers called Zones, each being constrained by different laws of physics and each allowing for different degrees of biological and technological advancement. The innermost, the \"Unthinking Depths\", surrounds the galacti...</td>\n",
       "    </tr>\n",
       "    <tr>\n",
       "      <th>4</th>\n",
       "      <td>2152</td>\n",
       "      <td>All Quiet on the Western Front</td>\n",
       "      <td>[War novel, Roman à clef]</td>\n",
       "      <td>The book tells the story of Paul Bäumer, a German soldier who—urged on by his school teacher—joins the German army shortly after the start of World War I. Bäumer arrives at the Western Front with his friends and schoolmates (Tjaden, Müller, Kropp and a number of other characters). There they me...</td>\n",
       "    </tr>\n",
       "  </tbody>\n",
       "</table>\n",
       "</div>"
      ],
      "text/plain": [
       "     ID                           Title  \\\n",
       "0   620                     Animal Farm   \n",
       "1   843              A Clockwork Orange   \n",
       "2   986                      The Plague   \n",
       "3  2080            A Fire Upon the Deep   \n",
       "4  2152  All Quiet on the Western Front   \n",
       "\n",
       "                                                                                            Genres  \\\n",
       "0                      [Roman à clef, Satire, Children's literature, Speculative fiction, Fiction]   \n",
       "1  [Science Fiction, Novella, Speculative fiction, Utopian and dystopian fiction, Satire, Fiction]   \n",
       "2                                              [Existentialism, Fiction, Absurdist fiction, Novel]   \n",
       "3                   [Hard science fiction, Science Fiction, Speculative fiction, Fantasy, Fiction]   \n",
       "4                                                                        [War novel, Roman à clef]   \n",
       "\n",
       "                                                                                                                                                                                                                                                                                                       Summary  \n",
       "0   Old Major, the old boar on the Manor Farm, calls the animals on the farm for a meeting, where he compares the humans to parasites and teaches the animals a revolutionary song, 'Beasts of England'. When Major dies, two young pigs, Snowball and Napoleon, assume command and turn his dream into a p...  \n",
       "1   Alex, a teenager living in near-future England, leads his gang on nightly orgies of opportunistic, random \"ultra-violence.\" Alex's friends (\"droogs\" in the novel's Anglo-Russian slang, Nadsat) are: Dim, a slow-witted bruiser who is the gang's muscle; Georgie, an ambitious second-in-command; and...  \n",
       "2   The text of The Plague is divided into five parts. In the town of Oran, thousands of rats, initially unnoticed by the populace, begin to die in the streets. A hysteria develops soon afterward, causing the local newspapers to report the incident. Authorities responding to public pressure order t...  \n",
       "3   The novel posits that space around the Milky Way is divided into concentric layers called Zones, each being constrained by different laws of physics and each allowing for different degrees of biological and technological advancement. The innermost, the \"Unthinking Depths\", surrounds the galacti...  \n",
       "4   The book tells the story of Paul Bäumer, a German soldier who—urged on by his school teacher—joins the German army shortly after the start of World War I. Bäumer arrives at the Western Front with his friends and schoolmates (Tjaden, Müller, Kropp and a number of other characters). There they me...  "
      ]
     },
     "execution_count": 34,
     "metadata": {},
     "output_type": "execute_result"
    }
   ],
   "source": [
    "bookDF.head()"
   ]
  },
  {
   "cell_type": "code",
   "execution_count": 35,
   "metadata": {},
   "outputs": [],
   "source": [
    "#Get all unique genres (possibly use this to trim out certain genres?)\n",
    "all_genres=sum(bookDF['Genres'],[])\n",
    "len(set(all_genres))"
   ]
  },
  {
   "cell_type": "code",
   "execution_count": 44,
   "metadata": {},
   "outputs": [
    {
     "name": "stderr",
     "output_type": "stream",
     "text": [
      "[nltk_data] Downloading package vader_lexicon to\n",
      "[nltk_data]     C:\\Users\\Andrew\\AppData\\Roaming\\nltk_data...\n",
      "[nltk_data] Downloading package stopwords to\n",
      "[nltk_data]     C:\\Users\\Andrew\\AppData\\Roaming\\nltk_data...\n",
      "[nltk_data]   Unzipping corpora\\stopwords.zip.\n"
     ]
    },
    {
     "data": {
      "text/plain": [
       "True"
      ]
     },
     "execution_count": 44,
     "metadata": {},
     "output_type": "execute_result"
    }
   ],
   "source": [
    "from nltk.corpus import stopwords\n",
    "from nltk.tokenize import word_tokenize\n",
    "from nltk.stem.porter import *\n",
    "\n",
    "#!pip install --upgrade gensim\n",
    "nltk.download('vader_lexicon')\n",
    "nltk.download('stopwords')"
   ]
  },
  {
   "cell_type": "code",
   "execution_count": 47,
   "metadata": {},
   "outputs": [],
   "source": [
    "#Text preprocessing\n",
    "def preprocess(summ):\n",
    "    stopWords=set(stopwords.words('english'))\n",
    "    summ=re.sub(\"\\'\",\"\",summ)\n",
    "    summ=re.sub(\"[^a-zA-Z]\",\" \",summ)\n",
    "    summ=' '.join([word for word in summ.split() if not word in stopWords])\n",
    "    return summ.lower()"
   ]
  },
  {
   "cell_type": "code",
   "execution_count": 48,
   "metadata": {},
   "outputs": [],
   "source": [
    "bookDF['Summary']=bookDF['Summary'].apply(lambda x: preprocess(x))"
   ]
  },
  {
   "cell_type": "code",
   "execution_count": 49,
   "metadata": {},
   "outputs": [
    {
     "data": {
      "text/html": [
       "<div>\n",
       "<style scoped>\n",
       "    .dataframe tbody tr th:only-of-type {\n",
       "        vertical-align: middle;\n",
       "    }\n",
       "\n",
       "    .dataframe tbody tr th {\n",
       "        vertical-align: top;\n",
       "    }\n",
       "\n",
       "    .dataframe thead th {\n",
       "        text-align: right;\n",
       "    }\n",
       "</style>\n",
       "<table border=\"1\" class=\"dataframe\">\n",
       "  <thead>\n",
       "    <tr style=\"text-align: right;\">\n",
       "      <th></th>\n",
       "      <th>ID</th>\n",
       "      <th>Title</th>\n",
       "      <th>Genres</th>\n",
       "      <th>Summary</th>\n",
       "    </tr>\n",
       "  </thead>\n",
       "  <tbody>\n",
       "    <tr>\n",
       "      <th>0</th>\n",
       "      <td>620</td>\n",
       "      <td>Animal Farm</td>\n",
       "      <td>[Roman à clef, Satire, Children's literature, Speculative fiction, Fiction]</td>\n",
       "      <td>old major old boar manor farm calls animals farm meeting compares humans parasites teaches animals revolutionary song beasts england major dies two young pigs snowball napoleon assume command turn dream philosophy animals revolt drive drunken irresponsible mr jones farm renaming animal farm adop...</td>\n",
       "    </tr>\n",
       "    <tr>\n",
       "      <th>1</th>\n",
       "      <td>843</td>\n",
       "      <td>A Clockwork Orange</td>\n",
       "      <td>[Science Fiction, Novella, Speculative fiction, Utopian and dystopian fiction, Satire, Fiction]</td>\n",
       "      <td>alex teenager living near future england leads gang nightly orgies opportunistic random ultra violence alexs friends droogs novels anglo russian slang nadsat dim slow witted bruiser gangs muscle georgie ambitious second command pete mostly plays along droogs indulge taste ultra violence characte...</td>\n",
       "    </tr>\n",
       "    <tr>\n",
       "      <th>2</th>\n",
       "      <td>986</td>\n",
       "      <td>The Plague</td>\n",
       "      <td>[Existentialism, Fiction, Absurdist fiction, Novel]</td>\n",
       "      <td>text plague divided five parts town oran thousands rats initially unnoticed populace begin die streets hysteria develops soon afterward causing local newspapers report incident authorities responding public pressure order collection cremation rats unaware collection catalyst spread bubonic plagu...</td>\n",
       "    </tr>\n",
       "    <tr>\n",
       "      <th>3</th>\n",
       "      <td>2080</td>\n",
       "      <td>A Fire Upon the Deep</td>\n",
       "      <td>[Hard science fiction, Science Fiction, Speculative fiction, Fantasy, Fiction]</td>\n",
       "      <td>novel posits space around milky way divided concentric layers called zones constrained different laws physics allowing different degrees biological technological advancement innermost unthinking depths surrounds galactic core incapable supporting advanced life forms next layer slow zone roughly ...</td>\n",
       "    </tr>\n",
       "    <tr>\n",
       "      <th>4</th>\n",
       "      <td>2152</td>\n",
       "      <td>All Quiet on the Western Front</td>\n",
       "      <td>[War novel, Roman à clef]</td>\n",
       "      <td>book tells story paul b umer german soldier urged school teacher joins german army shortly start world war b umer arrives western front friends schoolmates tjaden ller kropp number characters meet stanislaus katczinsky older soldier nicknamed kat becomes pauls mentor fighting front b umer comrad...</td>\n",
       "    </tr>\n",
       "  </tbody>\n",
       "</table>\n",
       "</div>"
      ],
      "text/plain": [
       "     ID                           Title  \\\n",
       "0   620                     Animal Farm   \n",
       "1   843              A Clockwork Orange   \n",
       "2   986                      The Plague   \n",
       "3  2080            A Fire Upon the Deep   \n",
       "4  2152  All Quiet on the Western Front   \n",
       "\n",
       "                                                                                            Genres  \\\n",
       "0                      [Roman à clef, Satire, Children's literature, Speculative fiction, Fiction]   \n",
       "1  [Science Fiction, Novella, Speculative fiction, Utopian and dystopian fiction, Satire, Fiction]   \n",
       "2                                              [Existentialism, Fiction, Absurdist fiction, Novel]   \n",
       "3                   [Hard science fiction, Science Fiction, Speculative fiction, Fantasy, Fiction]   \n",
       "4                                                                        [War novel, Roman à clef]   \n",
       "\n",
       "                                                                                                                                                                                                                                                                                                       Summary  \n",
       "0  old major old boar manor farm calls animals farm meeting compares humans parasites teaches animals revolutionary song beasts england major dies two young pigs snowball napoleon assume command turn dream philosophy animals revolt drive drunken irresponsible mr jones farm renaming animal farm adop...  \n",
       "1  alex teenager living near future england leads gang nightly orgies opportunistic random ultra violence alexs friends droogs novels anglo russian slang nadsat dim slow witted bruiser gangs muscle georgie ambitious second command pete mostly plays along droogs indulge taste ultra violence characte...  \n",
       "2  text plague divided five parts town oran thousands rats initially unnoticed populace begin die streets hysteria develops soon afterward causing local newspapers report incident authorities responding public pressure order collection cremation rats unaware collection catalyst spread bubonic plagu...  \n",
       "3  novel posits space around milky way divided concentric layers called zones constrained different laws physics allowing different degrees biological technological advancement innermost unthinking depths surrounds galactic core incapable supporting advanced life forms next layer slow zone roughly ...  \n",
       "4  book tells story paul b umer german soldier urged school teacher joins german army shortly start world war b umer arrives western front friends schoolmates tjaden ller kropp number characters meet stanislaus katczinsky older soldier nicknamed kat becomes pauls mentor fighting front b umer comrad...  "
      ]
     },
     "execution_count": 49,
     "metadata": {},
     "output_type": "execute_result"
    }
   ],
   "source": [
    "bookDF.head()"
   ]
  },
  {
   "cell_type": "code",
   "execution_count": 50,
   "metadata": {},
   "outputs": [],
   "source": [
    "#Multilabel Binarizer\n",
    "labeler=MultiLabelBinarizer()\n",
    "labeler.fit(bookDF['Genres'])\n",
    "y=labeler.transform(bookDF['Genres'])"
   ]
  },
  {
   "cell_type": "code",
   "execution_count": 51,
   "metadata": {},
   "outputs": [],
   "source": [
    "X_train,X_test,y_train,y_test=train_test_split(bookDF['Summary'],y,test_size=0.3)"
   ]
  },
  {
   "cell_type": "code",
   "execution_count": 52,
   "metadata": {},
   "outputs": [],
   "source": [
    "tfidf=TfidfVectorizer(max_df=0.8,max_features=10000)\n",
    "X_train=tfidf.fit_transform(X_train)\n",
    "X_test=tfidf.fit_transform(X_test)"
   ]
  },
  {
   "cell_type": "code",
   "execution_count": 53,
   "metadata": {},
   "outputs": [
    {
     "name": "stderr",
     "output_type": "stream",
     "text": [
      "C:\\Users\\Andrew\\anaconda3\\lib\\site-packages\\sklearn\\multiclass.py:77: UserWarning: Label not 4 is present in all training examples.\n",
      "  str(classes[c]))\n",
      "C:\\Users\\Andrew\\anaconda3\\lib\\site-packages\\sklearn\\multiclass.py:77: UserWarning: Label not 15 is present in all training examples.\n",
      "  str(classes[c]))\n",
      "C:\\Users\\Andrew\\anaconda3\\lib\\site-packages\\sklearn\\multiclass.py:77: UserWarning: Label not 22 is present in all training examples.\n",
      "  str(classes[c]))\n",
      "C:\\Users\\Andrew\\anaconda3\\lib\\site-packages\\sklearn\\multiclass.py:77: UserWarning: Label not 59 is present in all training examples.\n",
      "  str(classes[c]))\n",
      "C:\\Users\\Andrew\\anaconda3\\lib\\site-packages\\sklearn\\multiclass.py:77: UserWarning: Label not 66 is present in all training examples.\n",
      "  str(classes[c]))\n",
      "C:\\Users\\Andrew\\anaconda3\\lib\\site-packages\\sklearn\\multiclass.py:77: UserWarning: Label not 84 is present in all training examples.\n",
      "  str(classes[c]))\n",
      "C:\\Users\\Andrew\\anaconda3\\lib\\site-packages\\sklearn\\multiclass.py:77: UserWarning: Label not 108 is present in all training examples.\n",
      "  str(classes[c]))\n",
      "C:\\Users\\Andrew\\anaconda3\\lib\\site-packages\\sklearn\\multiclass.py:77: UserWarning: Label not 131 is present in all training examples.\n",
      "  str(classes[c]))\n",
      "C:\\Users\\Andrew\\anaconda3\\lib\\site-packages\\sklearn\\multiclass.py:77: UserWarning: Label not 174 is present in all training examples.\n",
      "  str(classes[c]))\n"
     ]
    },
    {
     "data": {
      "text/plain": [
       "OneVsRestClassifier(estimator=LogisticRegression())"
      ]
     },
     "execution_count": 53,
     "metadata": {},
     "output_type": "execute_result"
    }
   ],
   "source": [
    "lr=LogisticRegression()\n",
    "clf=OneVsRestClassifier(lr)\n",
    "clf.fit(X_train,y_train)"
   ]
  },
  {
   "cell_type": "code",
   "execution_count": 55,
   "metadata": {},
   "outputs": [
    {
     "data": {
      "text/plain": [
       "0.0018170019467878002"
      ]
     },
     "execution_count": 55,
     "metadata": {},
     "output_type": "execute_result"
    }
   ],
   "source": [
    "y_hat=clf.predict(X_test)\n",
    "accuracy_score(y_hat,y_test)"
   ]
  },
  {
   "cell_type": "code",
   "execution_count": null,
   "metadata": {},
   "outputs": [],
   "source": []
  }
 ],
 "metadata": {
  "kernelspec": {
   "display_name": "Python 3",
   "language": "python",
   "name": "python3"
  },
  "language_info": {
   "codemirror_mode": {
    "name": "ipython",
    "version": 3
   },
   "file_extension": ".py",
   "mimetype": "text/x-python",
   "name": "python",
   "nbconvert_exporter": "python",
   "pygments_lexer": "ipython3",
   "version": "3.7.6"
  }
 },
 "nbformat": 4,
 "nbformat_minor": 4
}
